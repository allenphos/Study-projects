{
  "nbformat": 4,
  "nbformat_minor": 0,
  "metadata": {
    "colab": {
      "provenance": [],
      "toc_visible": true,
      "include_colab_link": true
    },
    "kernelspec": {
      "name": "python3",
      "display_name": "Python 3"
    },
    "language_info": {
      "name": "python"
    }
  },
  "cells": [
    {
      "cell_type": "markdown",
      "metadata": {
        "id": "view-in-github",
        "colab_type": "text"
      },
      "source": [
        "<a href=\"https://colab.research.google.com/github/allenphos/Study-projects/blob/main/Overfitting_and_Regularization_in_Regression.ipynb\" target=\"_parent\"><img src=\"https://colab.research.google.com/assets/colab-badge.svg\" alt=\"Open In Colab\"/></a>"
      ]
    },
    {
      "cell_type": "markdown",
      "source": [
        "# Overfitting and Regularization in Regression"
      ],
      "metadata": {
        "id": "2tEFjz6yOXk7"
      }
    },
    {
      "cell_type": "markdown",
      "source": [
        "This project explores the concepts of overfitting and regularization in the context of regression models. It compares the performance of **Linear Regression** with **Polynomial Regression** to demonstrate overfitting. Furthermore, it investigates the use of regularization techniques (**Ridge, Lasso, ElasticNet**) to mitigate overfitting and improve model generalization.\n",
        "\n",
        "**Data:**\n",
        "\n",
        "The project uses a regression dataset ['regression_data.csv'](https://drive.google.com/drive/u/0/folders/1QT01TI24Dt2Mr5RNiSa5bPHH65N36UxV) containing features and a target variable.\n"
      ],
      "metadata": {
        "id": "epyFn7-ZNrYa"
      }
    },
    {
      "cell_type": "markdown",
      "source": [
        "## Import necessary libraries"
      ],
      "metadata": {
        "id": "WVkC1TitOFJQ"
      }
    },
    {
      "cell_type": "code",
      "source": [
        "import pandas as pd\n",
        "import numpy as np\n",
        "from sklearn.model_selection import train_test_split\n",
        "import matplotlib.pyplot as plt\n",
        "import seaborn as sns\n",
        "from sklearn.preprocessing import StandardScaler\n",
        "from sklearn.linear_model import LinearRegression, Ridge, Lasso, ElasticNet\n",
        "from sklearn.metrics import root_mean_squared_error\n",
        "from sklearn.preprocessing import PolynomialFeatures\n",
        "from sklearn.pipeline import Pipeline"
      ],
      "metadata": {
        "id": "BKBP3dokOERL"
      },
      "execution_count": 6,
      "outputs": []
    },
    {
      "cell_type": "markdown",
      "source": [],
      "metadata": {
        "id": "TMxnqgYdRoX1"
      }
    },
    {
      "cell_type": "markdown",
      "source": [
        "## 1. Data Loading and Preprocessing\n",
        "\n"
      ],
      "metadata": {
        "id": "ozN2ONZGCBS6"
      }
    },
    {
      "cell_type": "code",
      "source": [
        "# Download the dataset\n",
        "raw_df = pd.read_csv('drive/MyDrive/Colab Notebooks/data/regression_data.csv')\n",
        "\n",
        "# Split into features (X) and target (y)\n",
        "X = raw_df.drop(columns=['target'])\n",
        "y = raw_df['target']\n",
        "\n",
        "# Split into train and test sets\n",
        "X_train, X_val, y_train, y_val = train_test_split(X, y, test_size=0.2, random_state=42)"
      ],
      "metadata": {
        "id": "hswBx1DvOrBR"
      },
      "execution_count": 7,
      "outputs": []
    },
    {
      "cell_type": "markdown",
      "source": [
        "## 2. Model Training and Evaluation"
      ],
      "metadata": {
        "id": "KI0fB4vcOoEx"
      }
    },
    {
      "cell_type": "code",
      "source": [
        "def train_lin_vs_poly_reg(X_train, X_val, y_train, y_val, degree=5):\n",
        "    \"\"\"\n",
        "    Trains and evaluates Linear and Polynomial Regression models.\n",
        "\n",
        "    Args:\n",
        "        X_train: Training data features.\n",
        "        X_val: Validation data features.\n",
        "        y_train: Training data target.\n",
        "        y_val: Validation data target.\n",
        "        degree: Degree of the polynomial features.\n",
        "\n",
        "    Returns:\n",
        "        None (prints the results).\n",
        "    \"\"\"\n",
        "    # Linear Regression without polynomial features\n",
        "    lin_pipeline = Pipeline([\n",
        "        ('scaler', StandardScaler()),\n",
        "        ('regressor', LinearRegression())\n",
        "    ])\n",
        "    lin_pipeline.fit(X_train, y_train)\n",
        "    y_pred_train_lin = lin_pipeline.predict(X_train)\n",
        "    y_pred_val_lin = lin_pipeline.predict(X_val)\n",
        "\n",
        "   # Polynomial Regression\n",
        "    poly_pipeline = Pipeline([\n",
        "        ('poly_features', PolynomialFeatures(degree=degree, include_bias=False)),\n",
        "        ('scaler', StandardScaler()),\n",
        "        ('regressor', LinearRegression())\n",
        "    ])\n",
        "    poly_pipeline.fit(X_train, y_train)\n",
        "    y_pred_train_poly = poly_pipeline.predict(X_train)\n",
        "    y_pred_val_poly = poly_pipeline.predict(X_val)\n",
        "\n",
        "    # Model evaluation\n",
        "    rmse_lin_train = root_mean_squared_error(y_train, y_pred_train_lin)\n",
        "    rmse_poly_train = root_mean_squared_error(y_train, y_pred_train_poly)\n",
        "\n",
        "    rmse_lin_val = root_mean_squared_error(y_val, y_pred_val_lin)\n",
        "    rmse_poly_val = root_mean_squared_error(y_val, y_pred_val_poly)\n",
        "\n",
        "    print(f\"Train RMSE for Linear Regression: {rmse_lin_train:.3f}\")\n",
        "    print(f\"Test RMSE for Linear Regression: {rmse_lin_val:.3f}\\n\")\n",
        "\n",
        "    print(f\"Train RMSE for Polynomial Regression (degree {degree}): {rmse_poly_train:.3f}\")\n",
        "    print(f\"Test RMSE for Polynomial Regression (degree {degree}): {rmse_poly_val:.3f}\")"
      ],
      "metadata": {
        "id": "uTu6HL_YURED"
      },
      "execution_count": 8,
      "outputs": []
    },
    {
      "cell_type": "code",
      "source": [
        "degree = 2\n",
        "train_lin_vs_poly_reg(X_train, X_val, y_train, y_val, degree)"
      ],
      "metadata": {
        "colab": {
          "base_uri": "https://localhost:8080/"
        },
        "id": "E7ZWBZZEUXbb",
        "outputId": "8ec9e27a-fb10-418a-d165-278da9899eea"
      },
      "execution_count": 9,
      "outputs": [
        {
          "output_type": "stream",
          "name": "stdout",
          "text": [
            "Train RMSE for Linear Regression: 1.066\n",
            "Test RMSE for Linear Regression: 0.883\n",
            "\n",
            "Train RMSE for Polynomial Regression (degree 2): 1.017\n",
            "Test RMSE for Polynomial Regression (degree 2): 1.015\n"
          ]
        }
      ]
    },
    {
      "cell_type": "code",
      "source": [
        "degree = 3\n",
        "train_lin_vs_poly_reg(X_train, X_val, y_train, y_val, degree)"
      ],
      "metadata": {
        "colab": {
          "base_uri": "https://localhost:8080/"
        },
        "id": "dV8tmhuzUXox",
        "outputId": "bbe3f1e6-432f-4afe-c8fb-aef2dd51e2dd"
      },
      "execution_count": 10,
      "outputs": [
        {
          "output_type": "stream",
          "name": "stdout",
          "text": [
            "Train RMSE for Linear Regression: 1.066\n",
            "Test RMSE for Linear Regression: 0.883\n",
            "\n",
            "Train RMSE for Polynomial Regression (degree 3): 0.799\n",
            "Test RMSE for Polynomial Regression (degree 3): 1.916\n"
          ]
        }
      ]
    },
    {
      "cell_type": "code",
      "source": [
        "degree = 5\n",
        "train_lin_vs_poly_reg(X_train, X_val, y_train, y_val, degree)"
      ],
      "metadata": {
        "colab": {
          "base_uri": "https://localhost:8080/"
        },
        "id": "uO8KuclNUX1F",
        "outputId": "a6c59be4-4c20-452c-bab3-da47a2477219"
      },
      "execution_count": 11,
      "outputs": [
        {
          "output_type": "stream",
          "name": "stdout",
          "text": [
            "Train RMSE for Linear Regression: 1.066\n",
            "Test RMSE for Linear Regression: 0.883\n",
            "\n",
            "Train RMSE for Polynomial Regression (degree 5): 0.000\n",
            "Test RMSE for Polynomial Regression (degree 5): 12.677\n"
          ]
        }
      ]
    },
    {
      "cell_type": "markdown",
      "source": [
        "В лінійной регресії на тестових даних помилка зменшилась. Що говорить про хорошу генералізацію моделі. Помилка зростає якщо використовувати PolynomialFeatures.\n",
        "\n",
        "В поліномінальний регресії при високих значеннях degree, в даних можна побачити overfit. Модель занадто складна для даних."
      ],
      "metadata": {
        "id": "uxQ8C7M8c5XI"
      }
    },
    {
      "cell_type": "markdown",
      "source": [
        "## 3. Regularized Regression Models\n",
        "\n",
        "Тренування моделі Lasso(), Ridge(), ElasaticNet() на даних (з поліном ознаками до степені 20 включно), порівняня якісті з тою, яка була отримана з лінійною регресією. Яка модель найкраще генералізує і чому?"
      ],
      "metadata": {
        "id": "JNUt-Q6UHkn7"
      }
    },
    {
      "cell_type": "code",
      "source": [
        "from sklearn.linear_model import Ridge, Lasso, ElasticNet\n",
        "\n",
        "def poly_lin_vs_rle_(X_train, X_val, y_train, y_val, degree=5):\n",
        "    \"\"\"\n",
        "    Trains and evaluates Linear Regression, Ridge, Lasso, and ElasticNet models with polynomial features.\n",
        "\n",
        "    Args:\n",
        "        X_train: Training data features.\n",
        "        X_val: Validation data features.\n",
        "        y_train: Training data target.\n",
        "        y_val: Validation data target.\n",
        "        degree: Degree of the polynomial features.\n",
        "\n",
        "    Returns:\n",
        "        None (prints the results).\n",
        "    \"\"\"\n",
        "    # List of models\n",
        "    models = { # Fixed indentation here\n",
        "        \"Linear Regression with PolynomialFeatures\": LinearRegression(),\n",
        "        \"Ridge (alpha=1)                          \": Ridge(alpha=1),\n",
        "        \"Ridge (alpha=2)                          \": Ridge(alpha=2),\n",
        "        \"Lasso (alpha=0.1)                        \": Lasso(alpha=0.1, max_iter=10000),\n",
        "        \"ElasticNet (alpha=0.5)                   \": ElasticNet(alpha=0.5, max_iter=10000)\n",
        "    }\n",
        "\n",
        "    # Create polynomial features\n",
        "    poly = PolynomialFeatures(degree=degree, include_bias=False)\n",
        "    X_train_poly = poly.fit_transform(X_train)\n",
        "    X_val_poly = poly.transform(X_val)\n",
        "\n",
        "    # Scaling\n",
        "    scaler = StandardScaler()\n",
        "    X_train_poly_scaled = scaler.fit_transform(X_train_poly)\n",
        "    X_val_poly_scaled = scaler.transform(X_val_poly)\n",
        "\n",
        "    results = {}\n",
        "\n",
        "    for name, model in models.items():\n",
        "        model.fit(X_train_poly_scaled, y_train)\n",
        "        y_train_pred = model.predict(X_train_poly_scaled)\n",
        "        y_val_pred = model.predict(X_val_poly_scaled)\n",
        "\n",
        "        train_rmse = root_mean_squared_error(y_train, y_train_pred)\n",
        "        val_rmse = root_mean_squared_error(y_val, y_val_pred)\n",
        "\n",
        "        results[name] = {\"Train RMSE\": train_rmse, \"Validation RMSE\": val_rmse}\n",
        "\n",
        "    # Print the results\n",
        "    print(\"\\nEvaluation of regularized models:\")\n",
        "    for model_name, metrics in results.items():\n",
        "        print(f\"{model_name}: Train RMSE = {metrics['Train RMSE']:.3f}, Validation RMSE = {metrics['Validation RMSE']:.3f}\")"
      ],
      "metadata": {
        "id": "PDhJV97lYOhr"
      },
      "execution_count": 14,
      "outputs": []
    },
    {
      "cell_type": "code",
      "source": [
        "poly_lin_vs_rle_(X_train, X_val, y_train, y_val, degree=2)"
      ],
      "metadata": {
        "colab": {
          "base_uri": "https://localhost:8080/"
        },
        "id": "r9ODO11Mnq2P",
        "outputId": "8920095f-8e5b-4bdf-a399-870ed4cbee22"
      },
      "execution_count": 15,
      "outputs": [
        {
          "output_type": "stream",
          "name": "stdout",
          "text": [
            "\n",
            "Evaluation of regularized models:\n",
            "Linear Regression with PolynomialFeatures: Train RMSE = 1.017, Validation RMSE = 1.015\n",
            "Ridge (alpha=1)                          : Train RMSE = 1.114, Validation RMSE = 1.152\n",
            "Ridge (alpha=2)                          : Train RMSE = 1.356, Validation RMSE = 1.490\n",
            "Lasso (alpha=0.1)                        : Train RMSE = 1.075, Validation RMSE = 0.858\n",
            "ElasticNet (alpha=0.5)                   : Train RMSE = 9.119, Validation RMSE = 10.877\n"
          ]
        }
      ]
    },
    {
      "cell_type": "code",
      "source": [
        "poly_lin_vs_rle_(X_train, X_val, y_train, y_val, degree=6)"
      ],
      "metadata": {
        "colab": {
          "base_uri": "https://localhost:8080/"
        },
        "id": "wPIHmVRlmae0",
        "outputId": "ccc77c6f-4f50-440c-be4a-918a18fb9d8f"
      },
      "execution_count": 16,
      "outputs": [
        {
          "output_type": "stream",
          "name": "stdout",
          "text": [
            "\n",
            "Evaluation of regularized models:\n",
            "Linear Regression with PolynomialFeatures: Train RMSE = 0.000, Validation RMSE = 16.411\n",
            "Ridge (alpha=1)                          : Train RMSE = 1.071, Validation RMSE = 23.228\n",
            "Ridge (alpha=2)                          : Train RMSE = 1.719, Validation RMSE = 23.605\n",
            "Lasso (alpha=0.1)                        : Train RMSE = 0.971, Validation RMSE = 0.868\n",
            "ElasticNet (alpha=0.5)                   : Train RMSE = 8.643, Validation RMSE = 17.641\n"
          ]
        }
      ]
    },
    {
      "cell_type": "code",
      "source": [
        "poly_lin_vs_rle_(X_train, X_val, y_train, y_val, degree=12)"
      ],
      "metadata": {
        "colab": {
          "base_uri": "https://localhost:8080/"
        },
        "id": "1zZBr3POmbBQ",
        "outputId": "f72b3b8c-133f-4782-f716-94c35be2c60c"
      },
      "execution_count": 17,
      "outputs": [
        {
          "output_type": "stream",
          "name": "stdout",
          "text": [
            "\n",
            "Evaluation of regularized models:\n",
            "Linear Regression with PolynomialFeatures: Train RMSE = 0.000, Validation RMSE = 22.154\n",
            "Ridge (alpha=1)                          : Train RMSE = 1.051, Validation RMSE = 36.525\n",
            "Ridge (alpha=2)                          : Train RMSE = 1.665, Validation RMSE = 46.529\n",
            "Lasso (alpha=0.1)                        : Train RMSE = 0.962, Validation RMSE = 0.878\n",
            "ElasticNet (alpha=0.5)                   : Train RMSE = 8.609, Validation RMSE = 17.284\n"
          ]
        }
      ]
    },
    {
      "cell_type": "code",
      "source": [
        "poly_lin_vs_rle_(X_train, X_val, y_train, y_val, degree=20)"
      ],
      "metadata": {
        "colab": {
          "base_uri": "https://localhost:8080/"
        },
        "id": "mMlpq0xSmfCd",
        "outputId": "2e047649-1ef4-4a55-9d60-40ecd382fe4a"
      },
      "execution_count": 18,
      "outputs": [
        {
          "output_type": "stream",
          "name": "stdout",
          "text": [
            "\n",
            "Evaluation of regularized models:\n",
            "Linear Regression with PolynomialFeatures: Train RMSE = 0.000, Validation RMSE = 65.391\n",
            "Ridge (alpha=1)                          : Train RMSE = 1.054, Validation RMSE = 27.798\n",
            "Ridge (alpha=2)                          : Train RMSE = 1.665, Validation RMSE = 20.615\n",
            "Lasso (alpha=0.1)                        : Train RMSE = 0.965, Validation RMSE = 1.277\n",
            "ElasticNet (alpha=0.5)                   : Train RMSE = 8.603, Validation RMSE = 17.330\n"
          ]
        }
      ]
    },
    {
      "cell_type": "markdown",
      "source": [
        "Lasso generalizes best on the test data with the fewest polynomial features.\n",
        "Other models overfit and show high error on the test data."
      ],
      "metadata": {
        "id": "EQNsz4J2mRvZ"
      }
    },
    {
      "cell_type": "markdown",
      "source": [
        " ## 4. Feature Importance and Analysis"
      ],
      "metadata": {
        "id": "k6Ia1UGePMXD"
      }
    },
    {
      "cell_type": "code",
      "source": [
        "# Create polynomial features\n",
        "poly_features = PolynomialFeatures(degree=2)\n",
        "X_train_poly = poly_features.fit_transform(X_train)\n",
        "\n",
        "# Train Lasso regression on these features\n",
        "model = Lasso(alpha=0.1, max_iter=10000)\n",
        "model.fit(X_train_poly, y_train) # Lasso regression uses L1 regularization (Lasso can zero out the weights of less important features)\n",
        "\n",
        "# Create a table with feature names and their coefficients\n",
        "coefs_df = pd.DataFrame(poly_features.get_feature_names_out(X_train.columns), columns=['feature_name'])\n",
        "coefs_df['value'] = model.coef_.round(5).flatten()\n",
        "\n",
        "# Sort features by coefficient value and visualize\n",
        "coefs_df.set_index('feature_name').sort_values(by='value', ascending=False).style.background_gradient()"
      ],
      "metadata": {
        "colab": {
          "base_uri": "https://localhost:8080/",
          "height": 739
        },
        "id": "qXssQMXhgum0",
        "outputId": "17938221-51a7-4c64-f514-cc905398dd8c"
      },
      "execution_count": 19,
      "outputs": [
        {
          "output_type": "execute_result",
          "data": {
            "text/plain": [
              "<pandas.io.formats.style.Styler at 0x7939b5978f50>"
            ],
            "text/html": [
              "<style type=\"text/css\">\n",
              "#T_ef679_row0_col0 {\n",
              "  background-color: #023858;\n",
              "  color: #f1f1f1;\n",
              "}\n",
              "#T_ef679_row1_col0, #T_ef679_row2_col0, #T_ef679_row3_col0, #T_ef679_row4_col0, #T_ef679_row5_col0, #T_ef679_row6_col0, #T_ef679_row7_col0, #T_ef679_row8_col0, #T_ef679_row9_col0, #T_ef679_row10_col0, #T_ef679_row11_col0, #T_ef679_row12_col0, #T_ef679_row13_col0, #T_ef679_row14_col0, #T_ef679_row15_col0, #T_ef679_row16_col0, #T_ef679_row17_col0, #T_ef679_row18_col0, #T_ef679_row19_col0, #T_ef679_row20_col0 {\n",
              "  background-color: #fff7fb;\n",
              "  color: #000000;\n",
              "}\n",
              "</style>\n",
              "<table id=\"T_ef679\" class=\"dataframe\">\n",
              "  <thead>\n",
              "    <tr>\n",
              "      <th class=\"blank level0\" >&nbsp;</th>\n",
              "      <th id=\"T_ef679_level0_col0\" class=\"col_heading level0 col0\" >value</th>\n",
              "    </tr>\n",
              "    <tr>\n",
              "      <th class=\"index_name level0\" >feature_name</th>\n",
              "      <th class=\"blank col0\" >&nbsp;</th>\n",
              "    </tr>\n",
              "  </thead>\n",
              "  <tbody>\n",
              "    <tr>\n",
              "      <th id=\"T_ef679_level0_row0\" class=\"row_heading level0 row0\" >feature_4</th>\n",
              "      <td id=\"T_ef679_row0_col0\" class=\"data row0 col0\" >49.776590</td>\n",
              "    </tr>\n",
              "    <tr>\n",
              "      <th id=\"T_ef679_level0_row1\" class=\"row_heading level0 row1\" >feature_5^2</th>\n",
              "      <td id=\"T_ef679_row1_col0\" class=\"data row1 col0\" >0.035790</td>\n",
              "    </tr>\n",
              "    <tr>\n",
              "      <th id=\"T_ef679_level0_row2\" class=\"row_heading level0 row2\" >feature_2^2</th>\n",
              "      <td id=\"T_ef679_row2_col0\" class=\"data row2 col0\" >0.016600</td>\n",
              "    </tr>\n",
              "    <tr>\n",
              "      <th id=\"T_ef679_level0_row3\" class=\"row_heading level0 row3\" >feature_1</th>\n",
              "      <td id=\"T_ef679_row3_col0\" class=\"data row3 col0\" >0.012500</td>\n",
              "    </tr>\n",
              "    <tr>\n",
              "      <th id=\"T_ef679_level0_row4\" class=\"row_heading level0 row4\" >feature_2 feature_3</th>\n",
              "      <td id=\"T_ef679_row4_col0\" class=\"data row4 col0\" >0.012290</td>\n",
              "    </tr>\n",
              "    <tr>\n",
              "      <th id=\"T_ef679_level0_row5\" class=\"row_heading level0 row5\" >feature_4 feature_5</th>\n",
              "      <td id=\"T_ef679_row5_col0\" class=\"data row5 col0\" >-0.000000</td>\n",
              "    </tr>\n",
              "    <tr>\n",
              "      <th id=\"T_ef679_level0_row6\" class=\"row_heading level0 row6\" >feature_3 feature_5</th>\n",
              "      <td id=\"T_ef679_row6_col0\" class=\"data row6 col0\" >0.000000</td>\n",
              "    </tr>\n",
              "    <tr>\n",
              "      <th id=\"T_ef679_level0_row7\" class=\"row_heading level0 row7\" >feature_3 feature_4</th>\n",
              "      <td id=\"T_ef679_row7_col0\" class=\"data row7 col0\" >0.000000</td>\n",
              "    </tr>\n",
              "    <tr>\n",
              "      <th id=\"T_ef679_level0_row8\" class=\"row_heading level0 row8\" >feature_3^2</th>\n",
              "      <td id=\"T_ef679_row8_col0\" class=\"data row8 col0\" >0.000000</td>\n",
              "    </tr>\n",
              "    <tr>\n",
              "      <th id=\"T_ef679_level0_row9\" class=\"row_heading level0 row9\" >feature_2 feature_5</th>\n",
              "      <td id=\"T_ef679_row9_col0\" class=\"data row9 col0\" >0.000000</td>\n",
              "    </tr>\n",
              "    <tr>\n",
              "      <th id=\"T_ef679_level0_row10\" class=\"row_heading level0 row10\" >feature_2 feature_4</th>\n",
              "      <td id=\"T_ef679_row10_col0\" class=\"data row10 col0\" >-0.000000</td>\n",
              "    </tr>\n",
              "    <tr>\n",
              "      <th id=\"T_ef679_level0_row11\" class=\"row_heading level0 row11\" >1</th>\n",
              "      <td id=\"T_ef679_row11_col0\" class=\"data row11 col0\" >0.000000</td>\n",
              "    </tr>\n",
              "    <tr>\n",
              "      <th id=\"T_ef679_level0_row12\" class=\"row_heading level0 row12\" >feature_1 feature_4</th>\n",
              "      <td id=\"T_ef679_row12_col0\" class=\"data row12 col0\" >0.000000</td>\n",
              "    </tr>\n",
              "    <tr>\n",
              "      <th id=\"T_ef679_level0_row13\" class=\"row_heading level0 row13\" >feature_1 feature_3</th>\n",
              "      <td id=\"T_ef679_row13_col0\" class=\"data row13 col0\" >0.000000</td>\n",
              "    </tr>\n",
              "    <tr>\n",
              "      <th id=\"T_ef679_level0_row14\" class=\"row_heading level0 row14\" >feature_3</th>\n",
              "      <td id=\"T_ef679_row14_col0\" class=\"data row14 col0\" >0.000000</td>\n",
              "    </tr>\n",
              "    <tr>\n",
              "      <th id=\"T_ef679_level0_row15\" class=\"row_heading level0 row15\" >feature_2</th>\n",
              "      <td id=\"T_ef679_row15_col0\" class=\"data row15 col0\" >-0.000000</td>\n",
              "    </tr>\n",
              "    <tr>\n",
              "      <th id=\"T_ef679_level0_row16\" class=\"row_heading level0 row16\" >feature_1 feature_5</th>\n",
              "      <td id=\"T_ef679_row16_col0\" class=\"data row16 col0\" >0.000000</td>\n",
              "    </tr>\n",
              "    <tr>\n",
              "      <th id=\"T_ef679_level0_row17\" class=\"row_heading level0 row17\" >feature_1^2</th>\n",
              "      <td id=\"T_ef679_row17_col0\" class=\"data row17 col0\" >-0.018870</td>\n",
              "    </tr>\n",
              "    <tr>\n",
              "      <th id=\"T_ef679_level0_row18\" class=\"row_heading level0 row18\" >feature_4^2</th>\n",
              "      <td id=\"T_ef679_row18_col0\" class=\"data row18 col0\" >-0.029900</td>\n",
              "    </tr>\n",
              "    <tr>\n",
              "      <th id=\"T_ef679_level0_row19\" class=\"row_heading level0 row19\" >feature_1 feature_2</th>\n",
              "      <td id=\"T_ef679_row19_col0\" class=\"data row19 col0\" >-0.031790</td>\n",
              "    </tr>\n",
              "    <tr>\n",
              "      <th id=\"T_ef679_level0_row20\" class=\"row_heading level0 row20\" >feature_5</th>\n",
              "      <td id=\"T_ef679_row20_col0\" class=\"data row20 col0\" >-0.075060</td>\n",
              "    </tr>\n",
              "  </tbody>\n",
              "</table>\n"
            ]
          },
          "metadata": {},
          "execution_count": 19
        }
      ]
    },
    {
      "cell_type": "markdown",
      "source": [
        "Lasso regularization helps to identify the most important features by shrinking the weights of less important features to zero. This results in a simpler model that focuses on the most predictive variables."
      ],
      "metadata": {
        "id": "NWWmD7aXTD39"
      }
    }
  ]
}